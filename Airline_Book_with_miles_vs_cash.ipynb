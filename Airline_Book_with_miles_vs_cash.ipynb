{
  "nbformat": 4,
  "nbformat_minor": 0,
  "metadata": {
    "colab": {
      "provenance": [],
      "authorship_tag": "ABX9TyMlr2GG1ZThiDm+whE2P7oY",
      "include_colab_link": true
    },
    "kernelspec": {
      "name": "python3",
      "display_name": "Python 3"
    },
    "language_info": {
      "name": "python"
    }
  },
  "cells": [
    {
      "cell_type": "markdown",
      "metadata": {
        "id": "view-in-github",
        "colab_type": "text"
      },
      "source": [
        "<a href=\"https://colab.research.google.com/github/tsangrebecca/Life_Hack_Tools/blob/main/Airline_Book_with_miles_vs_cash.ipynb\" target=\"_parent\"><img src=\"https://colab.research.google.com/assets/colab-badge.svg\" alt=\"Open In Colab\"/></a>"
      ]
    },
    {
      "cell_type": "code",
      "execution_count": 72,
      "metadata": {
        "id": "7d2O6O8GSOuC",
        "colab": {
          "base_uri": "https://localhost:8080/"
        },
        "outputId": "75017925-d669-4a02-dff4-4a9da94d0338"
      },
      "outputs": [
        {
          "output_type": "stream",
          "name": "stdout",
          "text": [
            "What is the airline?\n",
            "southwest\n",
            "Amount to pay in cash:\n",
            "$ 1130\n",
            "USD equivalent to pay with points:\n",
            "$ 461\n",
            "BOOK WITH POINTS!\n",
            "You have enough points!\n",
            "You save:\n",
            "$ 669\n"
          ]
        }
      ],
      "source": [
        "#cash rate including tax and fees in USD\n",
        "cash_rate = 1200\n",
        "#value of each point in dollar amount according to TPG estimate, it's an average value and can fluctuate\n",
        "hawaiian = 0.009\n",
        "southwest = 0.015\n",
        "\n",
        "#enter airline name in both variables. How can I shorten to just one?\n",
        "airline = \"southwest\"\n",
        "point_value = southwest\n",
        "\n",
        "print(\"What is the airline?\")\n",
        "print(airline)\n",
        "\n",
        "#points earned from buying both legs of flight with cash\n",
        "points_earned_1 = 1890\n",
        "points_earned_2 = 2790\n",
        "points_earned = points_earned_1 + points_earned_2\n",
        "cash_back = points_earned*point_value\n",
        "cash_paid = cash_rate - cash_back\n",
        "\n",
        "#Using points to book then convert to cash equivalent in USD, tax is in USD\n",
        "available = 60000\n",
        "points_rate = 30000\n",
        "tax = 11.20\n",
        "points_paid = points_rate*point_value + tax\n",
        "\n",
        "\n",
        "print(\"Amount to pay in cash:\")\n",
        "print(f\"$ {round(cash_paid)}\")\n",
        "print(\"USD equivalent to pay with points:\")\n",
        "print(f\"$ {round(points_paid)}\")\n",
        "\n",
        "#enough points?\n",
        "point_difference = available - points_rate\n",
        "\n",
        "#Transfer Chase points to airline program with 1:1 ratio\n",
        "chase_points = abs(point_difference)\n",
        "chase_value = 0.02\n",
        "chase_paid = chase_points*chase_value\n",
        "points_paid_chase = chase_paid + points_paid\n",
        "\n",
        "savings = cash_paid - points_paid\n",
        "savings_chase = cash_paid - points_paid_chase\n",
        "\n",
        "if cash_paid > points_paid:\n",
        "  print(\"BOOK WITH POINTS!\")\n",
        "  if point_difference < 0:\n",
        "    print(\"But you don't have enough points.\")\n",
        "    print(f\"You are short by {abs(point_difference)} points.\")\n",
        "    print(\"If you book with Chase point transfer, the cash equivalent of your points redeemed will be:\")\n",
        "    print(f\"$ {round(points_paid_chase)}\")\n",
        "    print(\"You still save:\")\n",
        "    print(f\"$ {abs(round(savings_chase))}\")\n",
        "  else:\n",
        "    print(\"You have enough points!\")\n",
        "    print(\"You save:\")\n",
        "    print(f\"$ {abs(round(savings))}\")\n",
        "else:\n",
        "  print(\"BOOK WITH CASH!\")\n",
        "\n"
      ]
    }
  ]
}