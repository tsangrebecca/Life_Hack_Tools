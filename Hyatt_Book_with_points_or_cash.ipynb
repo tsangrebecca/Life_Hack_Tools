{
  "nbformat": 4,
  "nbformat_minor": 0,
  "metadata": {
    "colab": {
      "provenance": [],
      "authorship_tag": "ABX9TyNlCw9l0OIFTOrGElXjdEZV",
      "include_colab_link": true
    },
    "kernelspec": {
      "name": "python3",
      "display_name": "Python 3"
    },
    "language_info": {
      "name": "python"
    }
  },
  "cells": [
    {
      "cell_type": "markdown",
      "metadata": {
        "id": "view-in-github",
        "colab_type": "text"
      },
      "source": [
        "<a href=\"https://colab.research.google.com/github/tsangrebecca/Life_Hack_Tools/blob/main/Hyatt_Book_with_points_or_cash.ipynb\" target=\"_parent\"><img src=\"https://colab.research.google.com/assets/colab-badge.svg\" alt=\"Open In Colab\"/></a>"
      ]
    },
    {
      "cell_type": "code",
      "execution_count": 18,
      "metadata": {
        "colab": {
          "base_uri": "https://localhost:8080/"
        },
        "id": "uLyS_FLrOsT-",
        "outputId": "092b9243-0c45-4aad-d10d-d81c91885ed3"
      },
      "outputs": [
        {
          "output_type": "stream",
          "name": "stdout",
          "text": [
            "Amount to pay in cash:\n",
            "$ 1284\n",
            "Amount to pay in points with USD equivalent:\n",
            "$ 1275\n",
            "Book with points!\n",
            "You save:\n",
            "$ 9\n"
          ]
        }
      ],
      "source": [
        "#cash rate excluding tax and fees in USD\n",
        "cash_rate = 1077\n",
        "kamaaina = True\n",
        "#value of each point in dollar amount according to most current TPG\n",
        "point_value = 0.017\n",
        "occ_tax = 110.39\n",
        "state_tax = 50.75\n",
        "county_tax = 32.31\n",
        "resort_fees = 141.54\n",
        "tax_fees = occ_tax + state_tax + county_tax + resort_fees\n",
        "\n",
        "if kamaaina:\n",
        "  earning_rate = 7\n",
        "else:\n",
        "  earning_rate = 9\n",
        "\n",
        "points_earned = cash_rate*earning_rate\n",
        "cash_back = points_earned*point_value\n",
        "cash_paid = cash_rate - cash_back + tax_fees\n",
        "\n",
        "#Using points to book then convert to cash equivalent\n",
        "points_rate = 75000\n",
        "points_paid = points_rate*point_value\n",
        "\n",
        "print(\"Amount to pay in cash:\")\n",
        "print(f\"$ {round(cash_paid)}\")\n",
        "print(\"Amount to pay in points with USD equivalent:\")\n",
        "print(f\"$ {round(points_paid)}\")\n",
        "\n",
        "if cash_paid > points_paid:\n",
        "  print(\"Book with points!\")\n",
        "else:\n",
        "  print(\"Book with cash!\")\n",
        "\n",
        "print(\"You save:\")\n",
        "diff = cash_paid - points_paid\n",
        "print(f\"$ {abs(round(diff))}\")"
      ]
    },
    {
      "cell_type": "code",
      "source": [],
      "metadata": {
        "id": "oX_hoHPPPNA5"
      },
      "execution_count": null,
      "outputs": []
    }
  ]
}