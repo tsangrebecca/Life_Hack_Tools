{
  "nbformat": 4,
  "nbformat_minor": 0,
  "metadata": {
    "colab": {
      "provenance": [],
      "authorship_tag": "ABX9TyMn+x6Hj0NQOQoslz8FmfNi",
      "include_colab_link": true
    },
    "kernelspec": {
      "name": "python3",
      "display_name": "Python 3"
    },
    "language_info": {
      "name": "python"
    }
  },
  "cells": [
    {
      "cell_type": "markdown",
      "metadata": {
        "id": "view-in-github",
        "colab_type": "text"
      },
      "source": [
        "<a href=\"https://colab.research.google.com/github/tsangrebecca/Life_Hack_Tools/blob/main/Hyatt_Book_with_points_vs_cash.ipynb\" target=\"_parent\"><img src=\"https://colab.research.google.com/assets/colab-badge.svg\" alt=\"Open In Colab\"/></a>"
      ]
    },
    {
      "cell_type": "code",
      "execution_count": null,
      "metadata": {
        "colab": {
          "base_uri": "https://localhost:8080/"
        },
        "id": "uLyS_FLrOsT-",
        "outputId": "b5462fbe-181b-45bf-b50f-09cd354dbbba"
      },
      "outputs": [
        {
          "output_type": "stream",
          "name": "stdout",
          "text": [
            "Cost of stay if pay in cash after factoring in hotel point earnings from stay:\n",
            "$ 1238\n",
            "Cost of stay if pay with Hyatt points in USD equivalent:\n",
            "$ 1275\n",
            "Book with cash!\n",
            "You save:\n",
            "$ 37\n"
          ]
        }
      ],
      "source": [
        "#hotel rates in cash excluding tax and fees in USD\n",
        "cash_rate = 339*3\n",
        "#Local discount in Hawaii\n",
        "kamaaina = True\n",
        "#value of each point in dollar amount according to most current TPG.com valuation\n",
        "point_value = 0.017\n",
        "\n",
        "#occ_tax = 26.28\n",
        "#state_tax = 50.75\n",
        "#county_tax = 32.31\n",
        "#resort_fees = 159.24\n",
        "#tax_fees = occ_tax + state_tax + county_tax + resort_fees\n",
        "tax_fees = 47.92+30.51+104.24+159.24\n",
        "\n",
        "if kamaaina:\n",
        "  earning_rate = 7\n",
        "else:\n",
        "  earning_rate = 9\n",
        "\n",
        "points_earned = cash_rate*earning_rate\n",
        "cash_back = points_earned*point_value\n",
        "cash_paid = cash_rate + tax_fees - cash_back\n",
        "\n",
        "#Using points to book then convert to cash equivalent as points_paid\n",
        "points_rate = 25000*3\n",
        "points_paid = points_rate*point_value\n",
        "\n",
        "print(\"Cost of stay if pay in cash after factoring in hotel point earnings from stay:\")\n",
        "print(f\"$ {round(cash_paid)}\")\n",
        "print(\"Cost of stay if pay with Hyatt points in USD equivalent:\")\n",
        "print(f\"$ {round(points_paid)}\")\n",
        "\n",
        "if cash_paid > points_paid:\n",
        "  print(\"Book with points!\")\n",
        "else:\n",
        "  print(\"Book with cash!\")\n",
        "\n",
        "print(\"You save:\")\n",
        "diff = cash_paid - points_paid\n",
        "print(f\"$ {abs(round(diff))}\")"
      ]
    },
    {
      "cell_type": "markdown",
      "source": [
        "Wrap that in a FUNCTION"
      ],
      "metadata": {
        "id": "KCBB7hyVKz05"
      }
    },
    {
      "cell_type": "code",
      "source": [
        "def cost_of_stay(s, t, v):\n",
        "  # where s = cash rate, t = number of nights, v = cost of points per night, w = earning rate\n",
        "  y = 0.017 # valuation of Hyatt point in USD\n",
        "\n",
        "  kamaaina = True\n",
        "\n",
        "  if kamaaina:\n",
        "    w = 7\n",
        "  else:\n",
        "    w = 9\n",
        "\n",
        "  fees = s*t*(0.1025+0.04712+0.03+0.14582) # % of tax and fees off of hotel rates: occupancy, state, county, resort fee\n",
        "  C = round(s * t + fees - s * t * w * y)\n",
        "  P = round(v * t * y)\n",
        "  D = C - P\n",
        "\n",
        "  print (\"Cost of stay if pay in cash VS pay with points, Difference in USD\")\n",
        "  if D < 0:\n",
        "    print (\"Book with cash!\")\n",
        "  else:\n",
        "    print (\"Book with points!\")\n",
        "  return C,P,D\n",
        "\n",
        "cost_of_stay(364, 3, 25000)\n",
        "\n"
      ],
      "metadata": {
        "id": "oX_hoHPPPNA5",
        "colab": {
          "base_uri": "https://localhost:8080/"
        },
        "outputId": "dc6ca70c-296b-49d1-c225-c9efb08cdcb1"
      },
      "execution_count": null,
      "outputs": [
        {
          "output_type": "stream",
          "name": "stdout",
          "text": [
            "Cost of stay if pay in cash VS pay with points, Difference in USD\n",
            "Book with points!\n"
          ]
        },
        {
          "output_type": "execute_result",
          "data": {
            "text/plain": [
              "(1317, 1275, 42)"
            ]
          },
          "metadata": {},
          "execution_count": 15
        }
      ]
    },
    {
      "cell_type": "code",
      "source": [],
      "metadata": {
        "id": "gfDVD2Yu2-OH"
      },
      "execution_count": null,
      "outputs": []
    }
  ]
}