{
  "nbformat": 4,
  "nbformat_minor": 0,
  "metadata": {
    "colab": {
      "provenance": [],
      "authorship_tag": "ABX9TyPeYHlSh6XbESRg7lPI9dZm",
      "include_colab_link": true
    },
    "kernelspec": {
      "name": "python3",
      "display_name": "Python 3"
    },
    "language_info": {
      "name": "python"
    }
  },
  "cells": [
    {
      "cell_type": "markdown",
      "metadata": {
        "id": "view-in-github",
        "colab_type": "text"
      },
      "source": [
        "<a href=\"https://colab.research.google.com/github/tsangrebecca/Life_Hack_Tools/blob/main/Hyatt_Book_with_points_vs_cash.ipynb\" target=\"_parent\"><img src=\"https://colab.research.google.com/assets/colab-badge.svg\" alt=\"Open In Colab\"/></a>"
      ]
    },
    {
      "cell_type": "code",
      "execution_count": 19,
      "metadata": {
        "colab": {
          "base_uri": "https://localhost:8080/"
        },
        "id": "uLyS_FLrOsT-",
        "outputId": "ba834512-ee2f-4f30-fec7-d84d3b6bb105"
      },
      "outputs": [
        {
          "output_type": "stream",
          "name": "stdout",
          "text": [
            "Amount to pay in cash:\n",
            "$ 1172\n",
            "Amount to pay in points with USD equivalent:\n",
            "$ 1275\n",
            "Book with cash!\n",
            "You save:\n",
            "$ 103\n"
          ]
        }
      ],
      "source": [
        "#hotel rates in cash excluding tax and fees in USD\n",
        "cash_rate = 972\n",
        "kamaaina = True\n",
        "#value of each point in dollar amount according to most current TPG\n",
        "point_value = 0.017\n",
        "occ_tax = 99.63\n",
        "state_tax = 45.80\n",
        "county_tax = 29.16\n",
        "resort_fees = 141.54\n",
        "tax_fees = occ_tax + state_tax + county_tax + resort_fees\n",
        "\n",
        "if kamaaina:\n",
        "  earning_rate = 7\n",
        "else:\n",
        "  earning_rate = 9\n",
        "\n",
        "points_earned = cash_rate*earning_rate\n",
        "cash_back = points_earned*point_value\n",
        "cash_paid = cash_rate + tax_fees - cash_back\n",
        "\n",
        "#Using points to book then convert to cash equivalent as points_paid\n",
        "points_rate = 75000\n",
        "points_paid = points_rate*point_value\n",
        "\n",
        "print(\"Amount to pay in cash:\")\n",
        "print(f\"$ {round(cash_paid)}\")\n",
        "print(\"Amount to pay in points with USD equivalent:\")\n",
        "print(f\"$ {round(points_paid)}\")\n",
        "\n",
        "if cash_paid > points_paid:\n",
        "  print(\"Book with points!\")\n",
        "else:\n",
        "  print(\"Book with cash!\")\n",
        "\n",
        "print(\"You save:\")\n",
        "diff = cash_paid - points_paid\n",
        "print(f\"$ {abs(round(diff))}\")"
      ]
    },
    {
      "cell_type": "code",
      "source": [],
      "metadata": {
        "id": "oX_hoHPPPNA5"
      },
      "execution_count": null,
      "outputs": []
    }
  ]
}